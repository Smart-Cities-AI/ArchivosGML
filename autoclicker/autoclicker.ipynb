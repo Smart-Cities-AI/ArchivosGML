{
 "cells": [
  {
   "cell_type": "code",
   "execution_count": 47,
   "id": "383dd7d6-0314-4025-a045-97a5c7b4a139",
   "metadata": {},
   "outputs": [],
   "source": [
    "import pyautogui\n",
    "import PIL\n",
    "import time\n",
    "import random"
   ]
  },
  {
   "cell_type": "code",
   "execution_count": 37,
   "id": "7cf35487-431c-4748-a9be-0564eec763e7",
   "metadata": {},
   "outputs": [],
   "source": []
  },
  {
   "cell_type": "code",
   "execution_count": 68,
   "id": "75b5881e-d0e9-4b03-8f02-e92a0d00691b",
   "metadata": {},
   "outputs": [
    {
     "name": "stdout",
     "output_type": "stream",
     "text": [
      "Clicked on 110, 150\n",
      "Closing the box\n",
      "Clicked on 150, 150\n",
      "Found the box, downloading!\n",
      "Starting download\n",
      "Clicked the dropdown\n",
      "Clicked the file download\n",
      "Answer time: 1.3599999999860302s\n",
      "Closing the box\n",
      "Clicked on 190, 150\n",
      "Found the box, downloading!\n",
      "Starting download\n",
      "Clicked the dropdown\n",
      "Clicked the file download\n",
      "Answer time: 1.687999999965541s\n",
      "Closing the box\n",
      "Clicked on 230, 150\n",
      "Found the box, downloading!\n",
      "Starting download\n",
      "Clicked the dropdown\n",
      "Clicked the file download\n",
      "Answer time: 1.515999999945052s\n",
      "Closing the box\n",
      "Clicked on 270, 150\n",
      "Found the box, downloading!\n",
      "Starting download\n",
      "Clicked the dropdown\n",
      "Clicked the file download\n",
      "Answer time: 1.375s\n",
      "Closing the box\n",
      "Clicked on 310, 150\n",
      "Found the box, downloading!\n",
      "Starting download\n",
      "Clicked the dropdown\n",
      "Answer time: 1.0940000000409782s\n",
      "Closing the box\n",
      "Clicked on 350, 150\n",
      "Found the box, downloading!\n",
      "Starting download\n",
      "Clicked the dropdown\n",
      "Answer time: 1.1400000000139698s\n",
      "Closing the box\n",
      "Clicked on 390, 150\n",
      "Found the box, downloading!\n",
      "Starting download\n",
      "Clicked the dropdown\n",
      "Clicked the file download\n",
      "Answer time: 1.4060000000754371s\n",
      "Closing the box\n"
     ]
    },
    {
     "ename": "TypeError",
     "evalue": "'NoneType' object is not subscriptable",
     "output_type": "error",
     "traceback": [
      "\u001b[1;31m---------------------------------------------------------------------------\u001b[0m",
      "\u001b[1;31mTypeError\u001b[0m                                 Traceback (most recent call last)",
      "\u001b[1;32m<ipython-input-68-bf7f4b2bb4e2>\u001b[0m in \u001b[0;36m<module>\u001b[1;34m\u001b[0m\n\u001b[0;32m     43\u001b[0m                 \u001b[1;32mbreak\u001b[0m\u001b[1;33m\u001b[0m\u001b[1;33m\u001b[0m\u001b[0m\n\u001b[0;32m     44\u001b[0m         \u001b[0mprint\u001b[0m\u001b[1;33m(\u001b[0m\u001b[1;34m\"Closing the box\"\u001b[0m\u001b[1;33m)\u001b[0m\u001b[1;33m\u001b[0m\u001b[1;33m\u001b[0m\u001b[0m\n\u001b[1;32m---> 45\u001b[1;33m         \u001b[0mclosebox\u001b[0m\u001b[1;33m(\u001b[0m\u001b[1;33m)\u001b[0m\u001b[1;33m\u001b[0m\u001b[1;33m\u001b[0m\u001b[0m\n\u001b[0m\u001b[0;32m     46\u001b[0m         \u001b[0mtime\u001b[0m\u001b[1;33m.\u001b[0m\u001b[0msleep\u001b[0m\u001b[1;33m(\u001b[0m\u001b[0mfinal_delay\u001b[0m\u001b[1;33m)\u001b[0m\u001b[1;33m\u001b[0m\u001b[1;33m\u001b[0m\u001b[0m\n",
      "\u001b[1;32m<ipython-input-68-bf7f4b2bb4e2>\u001b[0m in \u001b[0;36mclosebox\u001b[1;34m()\u001b[0m\n\u001b[0;32m     13\u001b[0m                 \u001b[0mtemp\u001b[0m \u001b[1;33m=\u001b[0m \u001b[0mpyautogui\u001b[0m\u001b[1;33m.\u001b[0m\u001b[0mlocateOnScreen\u001b[0m\u001b[1;33m(\u001b[0m\u001b[1;34m'target3.png'\u001b[0m\u001b[1;33m,\u001b[0m\u001b[0mgrayscale\u001b[0m\u001b[1;33m=\u001b[0m\u001b[1;32mTrue\u001b[0m\u001b[1;33m,\u001b[0m \u001b[0mconfidence\u001b[0m\u001b[1;33m=\u001b[0m\u001b[1;36m.8\u001b[0m\u001b[1;33m)\u001b[0m\u001b[1;33m\u001b[0m\u001b[1;33m\u001b[0m\u001b[0m\n\u001b[0;32m     14\u001b[0m                 \u001b[0mtime\u001b[0m\u001b[1;33m.\u001b[0m\u001b[0msleep\u001b[0m\u001b[1;33m(\u001b[0m\u001b[0mrandom\u001b[0m\u001b[1;33m.\u001b[0m\u001b[0muniform\u001b[0m\u001b[1;33m(\u001b[0m\u001b[0mdelay_mid_actions\u001b[0m \u001b[1;33m-\u001b[0m\u001b[0mrandtime_interval\u001b[0m\u001b[1;33m,\u001b[0m\u001b[0mdelay_mid_actions\u001b[0m \u001b[1;33m+\u001b[0m\u001b[0mrandtime_interval\u001b[0m\u001b[1;33m)\u001b[0m\u001b[1;33m)\u001b[0m\u001b[1;33m\u001b[0m\u001b[1;33m\u001b[0m\u001b[0m\n\u001b[1;32m---> 15\u001b[1;33m                 \u001b[0mpyautogui\u001b[0m\u001b[1;33m.\u001b[0m\u001b[0mclick\u001b[0m\u001b[1;33m(\u001b[0m\u001b[0mtemp\u001b[0m\u001b[1;33m[\u001b[0m\u001b[1;36m0\u001b[0m\u001b[1;33m]\u001b[0m\u001b[1;33m+\u001b[0m\u001b[1;33m(\u001b[0m\u001b[0mtemp\u001b[0m\u001b[1;33m[\u001b[0m\u001b[1;36m2\u001b[0m\u001b[1;33m]\u001b[0m\u001b[1;33m/\u001b[0m\u001b[1;36m2\u001b[0m\u001b[1;33m)\u001b[0m\u001b[1;33m,\u001b[0m\u001b[0mtemp\u001b[0m\u001b[1;33m[\u001b[0m\u001b[1;36m1\u001b[0m\u001b[1;33m]\u001b[0m\u001b[1;33m+\u001b[0m\u001b[1;33m(\u001b[0m\u001b[0mtemp\u001b[0m\u001b[1;33m[\u001b[0m\u001b[1;36m3\u001b[0m\u001b[1;33m]\u001b[0m\u001b[1;33m/\u001b[0m\u001b[1;36m2\u001b[0m\u001b[1;33m)\u001b[0m\u001b[1;33m)\u001b[0m\u001b[1;33m\u001b[0m\u001b[1;33m\u001b[0m\u001b[0m\n\u001b[0m\u001b[0;32m     16\u001b[0m \u001b[1;33m\u001b[0m\u001b[0m\n\u001b[0;32m     17\u001b[0m \u001b[1;32mdef\u001b[0m \u001b[0mdownloadfile\u001b[0m\u001b[1;33m(\u001b[0m\u001b[1;33m)\u001b[0m\u001b[1;33m:\u001b[0m\u001b[1;33m\u001b[0m\u001b[1;33m\u001b[0m\u001b[0m\n",
      "\u001b[1;31mTypeError\u001b[0m: 'NoneType' object is not subscriptable"
     ]
    }
   ],
   "source": [
    "delay_mid_actions = 0.1\n",
    "randtime_interval = 0\n",
    "left_corner = (110,150)\n",
    "right_corner = (1850,900)\n",
    "x_step = 40\n",
    "y_step = 40\n",
    "allowed_delay = 3\n",
    "final_delay = 0.5\n",
    "\n",
    "def closebox():\n",
    "     while (time.monotonic() - start_time)<allowed_delay and not pyautogui.locateOnScreen('bad_click.png',grayscale=True, confidence=.8):\n",
    "            if pyautogui.locateOnScreen('target3.png',grayscale=True, confidence=.8):\n",
    "                temp = pyautogui.locateOnScreen('target3.png',grayscale=True, confidence=.8)\n",
    "                time.sleep(random.uniform(delay_mid_actions -randtime_interval,delay_mid_actions +randtime_interval))\n",
    "                pyautogui.click(temp[0]+(temp[2]/2),temp[1]+(temp[3]/2))\n",
    "    \n",
    "def downloadfile():\n",
    "    print(\"Starting download\")\n",
    "    temp = pyautogui.locateOnScreen('target1.png',grayscale=True, confidence=.7)\n",
    "    if not temp:\n",
    "        return None\n",
    "    time.sleep(random.uniform(delay_mid_actions -randtime_interval,delay_mid_actions +randtime_interval))\n",
    "    pyautogui.click(temp[0]+(temp[2]/2),temp[1]+(temp[3]/2))\n",
    "    print(\"Clicked the dropdown\")\n",
    "    temp = pyautogui.locateOnScreen('target2.png',grayscale=True, confidence=.5)\n",
    "    if not temp:\n",
    "        return None\n",
    "    time.sleep(random.uniform(delay_mid_actions -randtime_interval,delay_mid_actions +randtime_interval))\n",
    "    pyautogui.click(temp[0]+(temp[2]/2),temp[1]+(temp[3]/2))\n",
    "    print(\"Clicked the file download\")\n",
    "\n",
    "\n",
    "for y in range(left_corner[1],right_corner[1],y_step):\n",
    "    for x in range(left_corner[0],right_corner[0],x_step):\n",
    "        pyautogui.click(x,y)\n",
    "        print(\"Clicked on {0}, {1}\".format(x,y))\n",
    "        start_time = time.monotonic()\n",
    "        while (time.monotonic() - start_time)<allowed_delay and not pyautogui.locateOnScreen('bad_click.png',grayscale=True, confidence=.8):\n",
    "            if pyautogui.locateOnScreen('target1.png',grayscale=True, confidence=.8):\n",
    "                print(\"Found the box, downloading!\")\n",
    "                downloadfile()\n",
    "                print(\"Answer time: {0}s\".format(time.monotonic()-start_time))\n",
    "                break\n",
    "        print(\"Closing the box\")\n",
    "        closebox()\n",
    "        time.sleep(final_delay)\n"
   ]
  },
  {
   "cell_type": "code",
   "execution_count": null,
   "id": "45548d1c-97c2-432b-be7b-2d91c263e372",
   "metadata": {},
   "outputs": [],
   "source": []
  }
 ],
 "metadata": {
  "kernelspec": {
   "display_name": "Python 3",
   "language": "python",
   "name": "python3"
  },
  "language_info": {
   "codemirror_mode": {
    "name": "ipython",
    "version": 3
   },
   "file_extension": ".py",
   "mimetype": "text/x-python",
   "name": "python",
   "nbconvert_exporter": "python",
   "pygments_lexer": "ipython3",
   "version": "3.9.5"
  }
 },
 "nbformat": 4,
 "nbformat_minor": 5
}
